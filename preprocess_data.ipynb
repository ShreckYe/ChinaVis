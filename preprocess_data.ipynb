{
 "cells": [
  {
   "cell_type": "code",
   "execution_count": 1,
   "metadata": {
    "ExecuteTime": {
     "end_time": "2018-12-23T10:13:01.366028Z",
     "start_time": "2018-12-23T10:12:59.988528Z"
    }
   },
   "outputs": [],
   "source": [
    "import pandas as pd\n",
    "from io import StringIO\n",
    "import networkx as nx\n",
    "import logging\n",
    "\n",
    "__author__ = \"Xue\""
   ]
  },
  {
   "cell_type": "code",
   "execution_count": 8,
   "metadata": {
    "ExecuteTime": {
     "end_time": "2018-12-23T10:19:19.049364Z",
     "start_time": "2018-12-23T10:19:19.033861Z"
    }
   },
   "outputs": [],
   "source": [
    "def pre_process(from_path: str, file_name: str, days=30):\n",
    "  \"\"\"\n",
    "  :param from_path: the directory containing a month of data, without an\n",
    "  ending '/' or '\\\\'\n",
    "  :param file_name: the file you want to read in every day\n",
    "  :param days: how many days of data you want to read, default 30\n",
    "  :return: an object of pandas.DataFrame\n",
    "  \"\"\"\n",
    "  df = None\n",
    "  s = ''\n",
    "  for i in range(1, 1 + days):\n",
    "    path = from_path + '/2017-11-' + '{0:0>2d}'.format(i) + '/'\n",
    "    with open(path + file_name, mode='r', encoding='gbk') as f:\n",
    "      print('Reading file \\\"' + path + file_name + '\\\"... ', flush=True)\n",
    "\n",
    "      line = f.readline()\n",
    "      s += line\n",
    "      line_number = 1\n",
    "      while line:\n",
    "        try:\n",
    "          line = f.readline()\n",
    "          line_number += 1\n",
    "          cells = line.split(',')\n",
    "          if (len(cells) < 9) or ('@' not in cells[6]) or ('@' not in cells[7]):\n",
    "            continue  # Bad data or end of file\n",
    "          else:  # Correct row of data\n",
    "            s += line\n",
    "        except UnicodeDecodeError:\n",
    "          print('\\tBad data at line', str(line_number),\n",
    "                'of file ', path, file_name, flush=True)\n",
    "          line = 'place_holder'\n",
    "\n",
    "    df = pd.concat([df, pd.read_csv(StringIO(s), dtype=str)],\n",
    "                   ignore_index=True)\n",
    "    print('done', flush=True)\n",
    "    s = ''\n",
    "  return df"
   ]
  },
  {
   "cell_type": "code",
   "execution_count": 9,
   "metadata": {
    "ExecuteTime": {
     "end_time": "2018-12-23T10:19:21.514652Z",
     "start_time": "2018-12-23T10:19:20.120162Z"
    }
   },
   "outputs": [
    {
     "name": "stdout",
     "output_type": "stream",
     "text": [
      "Reading file \"rawdata/2017-11-01/email.csv\"... \n",
      "done\n",
      "Reading file \"rawdata/2017-11-02/email.csv\"... \n",
      "done\n",
      "Reading file \"rawdata/2017-11-03/email.csv\"... \n",
      "\tBad data at line 595 of file  rawdata/2017-11-03/ email.csv\n",
      "\tBad data at line 1373 of file  rawdata/2017-11-03/ email.csv\n",
      "done\n",
      "Reading file \"rawdata/2017-11-04/email.csv\"... \n",
      "done\n",
      "Reading file \"rawdata/2017-11-05/email.csv\"... \n",
      "done\n",
      "Reading file \"rawdata/2017-11-06/email.csv\"... \n",
      "done\n",
      "Reading file \"rawdata/2017-11-07/email.csv\"... \n",
      "done\n",
      "Reading file \"rawdata/2017-11-08/email.csv\"... \n",
      "done\n",
      "Reading file \"rawdata/2017-11-09/email.csv\"... \n",
      "\tBad data at line 239 of file  rawdata/2017-11-09/ email.csv\n",
      "\tBad data at line 832 of file  rawdata/2017-11-09/ email.csv\n",
      "\tBad data at line 935 of file  rawdata/2017-11-09/ email.csv\n",
      "done\n",
      "Reading file \"rawdata/2017-11-10/email.csv\"... \n",
      "done\n",
      "Reading file \"rawdata/2017-11-11/email.csv\"... \n",
      "done\n",
      "Reading file \"rawdata/2017-11-12/email.csv\"... \n",
      "done\n",
      "Reading file \"rawdata/2017-11-13/email.csv\"... \n",
      "\tBad data at line 1005 of file  rawdata/2017-11-13/ email.csv\n",
      "\tBad data at line 1732 of file  rawdata/2017-11-13/ email.csv\n",
      "done\n",
      "Reading file \"rawdata/2017-11-14/email.csv\"... \n",
      "\tBad data at line 741 of file  rawdata/2017-11-14/ email.csv\n",
      "\tBad data at line 741 of file  rawdata/2017-11-14/ email.csv\n",
      "\tBad data at line 1890 of file  rawdata/2017-11-14/ email.csv\n",
      "done\n",
      "Reading file \"rawdata/2017-11-15/email.csv\"... \n",
      "\tBad data at line 995 of file  rawdata/2017-11-15/ email.csv\n",
      "done\n",
      "Reading file \"rawdata/2017-11-16/email.csv\"... \n",
      "done\n",
      "Reading file \"rawdata/2017-11-17/email.csv\"... \n",
      "\tBad data at line 747 of file  rawdata/2017-11-17/ email.csv\n",
      "done\n",
      "Reading file \"rawdata/2017-11-18/email.csv\"... \n",
      "done\n",
      "Reading file \"rawdata/2017-11-19/email.csv\"... \n",
      "\tBad data at line 94 of file  rawdata/2017-11-19/ email.csv\n",
      "done\n",
      "Reading file \"rawdata/2017-11-20/email.csv\"... \n",
      "\tBad data at line 981 of file  rawdata/2017-11-20/ email.csv\n",
      "done\n",
      "Reading file \"rawdata/2017-11-21/email.csv\"... \n",
      "\tBad data at line 102 of file  rawdata/2017-11-21/ email.csv\n",
      "\tBad data at line 200 of file  rawdata/2017-11-21/ email.csv\n",
      "done\n",
      "Reading file \"rawdata/2017-11-22/email.csv\"... \n",
      "\tBad data at line 311 of file  rawdata/2017-11-22/ email.csv\n",
      "\tBad data at line 863 of file  rawdata/2017-11-22/ email.csv\n",
      "done\n",
      "Reading file \"rawdata/2017-11-23/email.csv\"... \n",
      "\tBad data at line 1822 of file  rawdata/2017-11-23/ email.csv\n",
      "done\n",
      "Reading file \"rawdata/2017-11-24/email.csv\"... \n",
      "\tBad data at line 61 of file  rawdata/2017-11-24/ email.csv\n",
      "\tBad data at line 61 of file  rawdata/2017-11-24/ email.csv\n",
      "\tBad data at line 1889 of file  rawdata/2017-11-24/ email.csv\n",
      "done\n",
      "Reading file \"rawdata/2017-11-25/email.csv\"... \n",
      "\tBad data at line 196 of file  rawdata/2017-11-25/ email.csv\n",
      "done\n",
      "Reading file \"rawdata/2017-11-26/email.csv\"... \n",
      "done\n",
      "Reading file \"rawdata/2017-11-27/email.csv\"... \n",
      "\tBad data at line 1496 of file  rawdata/2017-11-27/ email.csv\n",
      "done\n",
      "Reading file \"rawdata/2017-11-28/email.csv\"... \n",
      "\tBad data at line 451 of file  rawdata/2017-11-28/ email.csv\n",
      "\tBad data at line 1102 of file  rawdata/2017-11-28/ email.csv\n",
      "\tBad data at line 1659 of file  rawdata/2017-11-28/ email.csv\n",
      "\tBad data at line 1659 of file  rawdata/2017-11-28/ email.csv\n",
      "done\n",
      "Reading file \"rawdata/2017-11-29/email.csv\"... \n",
      "\tBad data at line 1041 of file  rawdata/2017-11-29/ email.csv\n",
      "done\n",
      "Reading file \"rawdata/2017-11-30/email.csv\"... \n",
      "done\n"
     ]
    }
   ],
   "source": [
    "email_all = pre_process('rawdata', 'email.csv')"
   ]
  },
  {
   "cell_type": "code",
   "execution_count": 20,
   "metadata": {
    "ExecuteTime": {
     "end_time": "2018-12-23T10:32:53.648116Z",
     "start_time": "2018-12-23T10:32:53.228910Z"
    }
   },
   "outputs": [],
   "source": [
    "email_all.to_csv('preprocessed data/email_all.csv', encoding='utf-8')"
   ]
  }
 ],
 "metadata": {
  "kernelspec": {
   "display_name": "Python 3",
   "language": "python",
   "name": "python3"
  },
  "language_info": {
   "codemirror_mode": {
    "name": "ipython",
    "version": 3
   },
   "file_extension": ".py",
   "mimetype": "text/x-python",
   "name": "python",
   "nbconvert_exporter": "python",
   "pygments_lexer": "ipython3",
   "version": "3.6.7"
  },
  "latex_envs": {
   "LaTeX_envs_menu_present": true,
   "autoclose": false,
   "autocomplete": true,
   "bibliofile": "biblio.bib",
   "cite_by": "apalike",
   "current_citInitial": 1,
   "eqLabelWithNumbers": true,
   "eqNumInitial": 1,
   "hotkeys": {
    "equation": "Ctrl-E",
    "itemize": "Ctrl-I"
   },
   "labels_anchors": false,
   "latex_user_defs": false,
   "report_style_numbering": false,
   "user_envs_cfg": false
  },
  "toc": {
   "base_numbering": 1,
   "nav_menu": {},
   "number_sections": true,
   "sideBar": true,
   "skip_h1_title": false,
   "title_cell": "Table of Contents",
   "title_sidebar": "Contents",
   "toc_cell": false,
   "toc_position": {},
   "toc_section_display": true,
   "toc_window_display": false
  },
  "varInspector": {
   "cols": {
    "lenName": 16,
    "lenType": 16,
    "lenVar": 40
   },
   "kernels_config": {
    "python": {
     "delete_cmd_postfix": "",
     "delete_cmd_prefix": "del ",
     "library": "var_list.py",
     "varRefreshCmd": "print(var_dic_list())"
    },
    "r": {
     "delete_cmd_postfix": ") ",
     "delete_cmd_prefix": "rm(",
     "library": "var_list.r",
     "varRefreshCmd": "cat(var_dic_list()) "
    }
   },
   "types_to_exclude": [
    "module",
    "function",
    "builtin_function_or_method",
    "instance",
    "_Feature"
   ],
   "window_display": false
  }
 },
 "nbformat": 4,
 "nbformat_minor": 2
}
