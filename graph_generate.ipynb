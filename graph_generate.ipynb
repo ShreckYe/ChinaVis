{
 "cells": [
  {
   "cell_type": "code",
   "execution_count": 2,
   "metadata": {
    "ExecuteTime": {
     "end_time": "2018-12-13T16:04:32.505547Z",
     "start_time": "2018-12-13T16:04:32.483283Z"
    }
   },
   "outputs": [],
   "source": [
    "%matplotlib inline\n",
    "import networkx as nx\n",
    "import matplotlib.pyplot as plt\n",
    "import pandas as pd"
   ]
  },
  {
   "cell_type": "code",
   "execution_count": 3,
   "metadata": {
    "ExecuteTime": {
     "end_time": "2018-12-13T16:04:34.265656Z",
     "start_time": "2018-12-13T16:04:34.196511Z"
    }
   },
   "outputs": [],
   "source": [
    "df = pd.read_csv('C:/Users/Mio/workspace/Vis/rawdata/2017-11-01/email.csv')"
   ]
  },
  {
   "cell_type": "code",
   "execution_count": 4,
   "metadata": {
    "ExecuteTime": {
     "end_time": "2018-12-13T16:04:35.396787Z",
     "start_time": "2018-12-13T16:04:35.374824Z"
    }
   },
   "outputs": [],
   "source": [
    "email = nx.MultiGraph()\n",
    "rd = nx.MultiGraph() # Research and development department\n",
    "hr = nx.MultiGraph() # Human resource department\n",
    "fi = nx.MultiGraph() # Finance department\n",
    "email.clear(); rd.clear(); hr.clear(); fi.clear()\n",
    "\n",
    "filter = ['新葡京', '釦', '扣', 'QQ:']\n",
    "rd_key = ['ALARM', 'RECOVER', 'Emerg', '警', '文档', '项目', '崩', '系统', '设计', '台', '需', '端', '测', '置', '技术', '汇', '段']\n",
    "hr_key = ['简历', '资料', '通知', '总结', 'Offer', '岗位', '考勤', '员', '候', '内', '迟', '旷', '早', '福']\n",
    "fi_key = ['财务', '资金', '报销', '会计', '税']"
   ]
  },
  {
   "cell_type": "code",
   "execution_count": 5,
   "metadata": {
    "ExecuteTime": {
     "end_time": "2018-12-13T16:04:36.328583Z",
     "start_time": "2018-12-13T16:04:36.294790Z"
    }
   },
   "outputs": [],
   "source": [
    "def add_node_edge(graph, frm, to, c):\n",
    "    graph.add_node(frm)\n",
    "    for i in to.split(';'):\n",
    "        graph.add_node(i)\n",
    "        graph.add_edge(frm, i, viz={'color':{'r':c[0], 'g':c[1], 'b':c[2], 'a': 1.0}})\n",
    "        # graph.add_edge(frm, i)\n",
    "    return graph"
   ]
  },
  {
   "cell_type": "code",
   "execution_count": 6,
   "metadata": {
    "ExecuteTime": {
     "end_time": "2018-12-13T16:04:39.419337Z",
     "start_time": "2018-12-13T16:04:37.593942Z"
    }
   },
   "outputs": [],
   "source": [
    "for i in range(1917):\n",
    "    # Filter garbage\n",
    "    if any(j in df['subject'][i] for j in filter):\n",
    "        pass\n",
    "    # Add to RD\n",
    "    elif any(j in df['subject'][i] for j in rd_key):\n",
    "        rd = add_node_edge(rd, df['from'][i], df['to'][i], (255, 0, 0))\n",
    "        email = add_node_edge(email, df['from'][i], df['to'][i], (255, 0, 0))\n",
    "    # Add to HR\n",
    "    elif any(j in df['subject'][i] for j in hr_key):\n",
    "        hr = add_node_edge(hr, df['from'][i], df['to'][i], (0, 128, 0))\n",
    "        email = add_node_edge(email, df['from'][i], df['to'][i], (0, 128, 0))\n",
    "    # Add to Fi\n",
    "    elif any(j in df['subject'][i] for j in fi_key):\n",
    "        fi = add_node_edge(fi, df['from'][i], df['to'][i], (65, 105, 225))\n",
    "        email = add_node_edge(email, df['from'][i], df['to'][i], (65, 105, 225))\n",
    "    else:\n",
    "        email = add_node_edge(email, df['from'][i], df['to'][i], (250, 128, 114))"
   ]
  },
  {
   "cell_type": "code",
   "execution_count": 8,
   "metadata": {
    "ExecuteTime": {
     "end_time": "2018-12-13T16:13:31.713405Z",
     "start_time": "2018-12-13T16:13:29.409120Z"
    }
   },
   "outputs": [],
   "source": [
    "# email = nx.relabel_nodes(email, mapping, copy=False)\n",
    "nx.write_gexf(email, 'C:/Users/Mio/workspace/Vis/data/email_d1.gexf')\n",
    "nx.write_gexf(rd, 'C:/Users/Mio/workspace/Vis/data/rd_d1.gexf')\n",
    "nx.write_gexf(hr, 'C:/Users/Mio/workspace/Vis/data/hr_d1.gexf')\n",
    "nx.write_gexf(fi, 'C:/Users/Mio/workspace/Vis/data/fi_d1.gexf')"
   ]
  },
  {
   "cell_type": "code",
   "execution_count": null,
   "metadata": {},
   "outputs": [],
   "source": []
  }
 ],
 "metadata": {
  "kernelspec": {
   "display_name": "Python 3",
   "language": "python",
   "name": "python3"
  },
  "latex_envs": {
   "LaTeX_envs_menu_present": true,
   "autoclose": false,
   "autocomplete": true,
   "bibliofile": "biblio.bib",
   "cite_by": "apalike",
   "current_citInitial": 1,
   "eqLabelWithNumbers": true,
   "eqNumInitial": 1,
   "hotkeys": {
    "equation": "Ctrl-E",
    "itemize": "Ctrl-I"
   },
   "labels_anchors": false,
   "latex_user_defs": false,
   "report_style_numbering": false,
   "user_envs_cfg": false
  },
  "toc": {
   "base_numbering": 1,
   "nav_menu": {},
   "number_sections": true,
   "sideBar": true,
   "skip_h1_title": false,
   "title_cell": "Table of Contents",
   "title_sidebar": "Contents",
   "toc_cell": false,
   "toc_position": {},
   "toc_section_display": true,
   "toc_window_display": false
  },
  "varInspector": {
   "cols": {
    "lenName": 16,
    "lenType": 16,
    "lenVar": 40
   },
   "kernels_config": {
    "python": {
     "delete_cmd_postfix": "",
     "delete_cmd_prefix": "del ",
     "library": "var_list.py",
     "varRefreshCmd": "print(var_dic_list())"
    },
    "r": {
     "delete_cmd_postfix": ") ",
     "delete_cmd_prefix": "rm(",
     "library": "var_list.r",
     "varRefreshCmd": "cat(var_dic_list()) "
    }
   },
   "types_to_exclude": [
    "module",
    "function",
    "builtin_function_or_method",
    "instance",
    "_Feature"
   ],
   "window_display": false
  }
 },
 "nbformat": 4,
 "nbformat_minor": 2
}
