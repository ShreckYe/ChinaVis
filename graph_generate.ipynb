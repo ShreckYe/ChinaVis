{
 "cells": [
  {
   "cell_type": "code",
   "execution_count": 1,
   "metadata": {
    "ExecuteTime": {
     "end_time": "2018-12-23T11:28:54.528879Z",
     "start_time": "2018-12-23T11:28:53.145286Z"
    }
   },
   "outputs": [],
   "source": [
    "import pandas as pd\n",
    "import networkx as nx\n",
    "\n",
    "__author__ = \"Yang\""
   ]
  },
  {
   "cell_type": "code",
   "execution_count": 6,
   "metadata": {
    "ExecuteTime": {
     "end_time": "2018-12-23T11:32:14.145473Z",
     "start_time": "2018-12-23T11:32:14.125973Z"
    }
   },
   "outputs": [],
   "source": [
    "# Garbage, research&development, human resource, finance\n",
    "filter = ['新葡京', '釦', '扣', 'QQ:']\n",
    "rd_key = ['ALARM', 'RECOVER', 'Emerg', '警', '文档', '项目', '崩',\n",
    "          '系统', '设计', '台', '需', '端', '测', '置', '技术', '汇', '段']\n",
    "hr_key = ['简历', '资料', '通知', '总结', 'Offer', '岗位',\n",
    "          '考勤', '员', '候', '内', '迟', '旷', '早', '福']\n",
    "fi_key = ['财务', '资金', '报销', '会计', '税']\n",
    "\n",
    "\n",
    "def add_node_edge(graph, frm, to, c):\n",
    "    '''\n",
    "    Add node and edge [from, to] to graph with color c\n",
    "    return graph\n",
    "    '''\n",
    "    graph.add_node(frm)\n",
    "    for i in to.split(';'):\n",
    "        graph.add_node(i)\n",
    "        graph.add_edge(\n",
    "            frm, i, viz={'color': {'r': c[0], 'g': c[1], 'b': c[2], 'a': 1.0}})\n",
    "    return graph\n",
    "\n",
    "\n",
    "def init_graph():\n",
    "    email = nx.MultiGraph()\n",
    "    rd = nx.MultiGraph()  # Research and development department\n",
    "    hr = nx.MultiGraph()  # Human resource department\n",
    "    fi = nx.MultiGraph()  # Finance department\n",
    "    email.clear(); rd.clear; hr.clear(); fi.clear()\n",
    "    return email, rd, hr, fi\n",
    "\n",
    "def read_csv(path):\n",
    "    '''\n",
    "    Read .csv file in path\n",
    "    return a dataframe and number of rows\n",
    "    '''\n",
    "    try:\n",
    "        df = pd.read_csv(path, encoding='gbk')\n",
    "    except UnicodeDecodeError:\n",
    "        df = pd.read_csv(path, encoding='utf-8')\n",
    "    num = df.shape[0]\n",
    "    return df, num"
   ]
  },
  {
   "cell_type": "code",
   "execution_count": 7,
   "metadata": {
    "ExecuteTime": {
     "end_time": "2018-12-23T11:32:15.029264Z",
     "start_time": "2018-12-23T11:32:15.006770Z"
    }
   },
   "outputs": [],
   "source": [
    "def generate_graph(path, l: list):\n",
    "    '''\n",
    "    generate graph in l\n",
    "    return graph\n",
    "    '''\n",
    "    df, num = read_csv(path)\n",
    "    for i in range(num):\n",
    "        # Filter garbage\n",
    "        if any(j in df['subject'][i] for j in filter):\n",
    "            pass\n",
    "        # Add to RD with red edge\n",
    "        elif any(j in df['subject'][i] for j in rd_key):\n",
    "            l[1] = add_node_edge(l[1], df['from'][i], df['to'][i], (255, 0, 0))\n",
    "            l[0] = add_node_edge(\n",
    "                l[0], df['from'][i], df['to'][i], (255, 0, 0))\n",
    "        # Add to HR with green edge\n",
    "        elif any(j in df['subject'][i] for j in hr_key):\n",
    "            l[2] = add_node_edge(l[2], df['from'][i], df['to'][i], (0, 128, 0))\n",
    "            l[0] = add_node_edge(\n",
    "                l[0], df['from'][i], df['to'][i], (0, 128, 0))\n",
    "        # Add to Fi with blue edge\n",
    "        elif any(j in df['subject'][i] for j in fi_key):\n",
    "            l[3] = add_node_edge(l[3], df['from'][i],\n",
    "                                 df['to'][i], (65, 105, 225))\n",
    "            l[0] = add_node_edge(\n",
    "                l[0], df['from'][i], df['to'][i], (65, 105, 225))\n",
    "        else:\n",
    "            l[0] = add_node_edge(\n",
    "                l[0], df['from'][i], df['to'][i], (250, 128, 114))\n",
    "    return l[0], l[1], l[2], l[3]"
   ]
  },
  {
   "cell_type": "code",
   "execution_count": 8,
   "metadata": {
    "ExecuteTime": {
     "end_time": "2018-12-23T11:32:29.110593Z",
     "start_time": "2018-12-23T11:32:29.103590Z"
    }
   },
   "outputs": [],
   "source": [
    "def write2gexf(path, l: list, suffix):\n",
    "    '''\n",
    "    Write graph in l to .gexf file\n",
    "    '''\n",
    "    nx.write_gexf(l[0], path + 'email' + suffix)\n",
    "    nx.write_gexf(l[1], path + 'rd' + suffix)\n",
    "    nx.write_gexf(l[2], path + 'hr' + suffix)\n",
    "    nx.write_gexf(l[3], path + 'fi' + suffix)"
   ]
  },
  {
   "cell_type": "code",
   "execution_count": 9,
   "metadata": {
    "ExecuteTime": {
     "end_time": "2018-12-23T11:32:32.116993Z",
     "start_time": "2018-12-23T11:32:31.015339Z"
    }
   },
   "outputs": [],
   "source": [
    "# generate graph for day 1\n",
    "path_d1 = 'rawdata/2017-11-01/email.csv'\n",
    "email_d1, rd_d1, hr_d1, fi_d1 = init_graph()\n",
    "email_d1, rd_d1, hr_d1, fi_d1 = generate_graph(\n",
    "    path_d1, [email_d1, rd_d1, hr_d1, fi_d1])\n",
    "write2gexf('preprocessed data/', [email_d1, rd_d1, hr_d1, fi_d1], '_d1.gexf')"
   ]
  },
  {
   "cell_type": "code",
   "execution_count": 10,
   "metadata": {
    "ExecuteTime": {
     "end_time": "2018-12-23T11:33:01.850725Z",
     "start_time": "2018-12-23T11:32:38.275813Z"
    }
   },
   "outputs": [],
   "source": [
    "# generate graph for all\n",
    "path_all = 'preprocessed data/email_all.csv'\n",
    "email_all, rd_all, hr_all, fi_all = init_graph()\n",
    "email_all, rd_all, hr_all, fi_all = generate_graph(\n",
    "    path_all, [email_all, rd_all, hr_all, fi_all])\n",
    "write2gexf('preprocessed data/', [email_all,\n",
    "                                  rd_all, hr_all, fi_all], '_all.gexf')"
   ]
  },
  {
   "cell_type": "code",
   "execution_count": 11,
   "metadata": {
    "ExecuteTime": {
     "end_time": "2018-12-23T11:33:24.801310Z",
     "start_time": "2018-12-23T11:33:24.780812Z"
    }
   },
   "outputs": [
    {
     "name": "stdout",
     "output_type": "stream",
     "text": [
      "476\n",
      "5087\n",
      "4206\n",
      "108246\n"
     ]
    }
   ],
   "source": [
    "print(email_d1.number_of_nodes())\n",
    "print(email_d1.number_of_edges())\n",
    "print(email_all.number_of_nodes())\n",
    "print(email_all.number_of_edges())"
   ]
  }
 ],
 "metadata": {
  "kernelspec": {
   "display_name": "Python 3",
   "language": "python",
   "name": "python3"
  },
  "language_info": {
   "codemirror_mode": {
    "name": "ipython",
    "version": 3
   },
   "file_extension": ".py",
   "mimetype": "text/x-python",
   "name": "python",
   "nbconvert_exporter": "python",
   "pygments_lexer": "ipython3",
   "version": "3.6.7"
  },
  "latex_envs": {
   "LaTeX_envs_menu_present": true,
   "autoclose": false,
   "autocomplete": true,
   "bibliofile": "biblio.bib",
   "cite_by": "apalike",
   "current_citInitial": 1,
   "eqLabelWithNumbers": true,
   "eqNumInitial": 1,
   "hotkeys": {
    "equation": "Ctrl-E",
    "itemize": "Ctrl-I"
   },
   "labels_anchors": false,
   "latex_user_defs": false,
   "report_style_numbering": false,
   "user_envs_cfg": false
  },
  "toc": {
   "base_numbering": 1,
   "nav_menu": {},
   "number_sections": true,
   "sideBar": true,
   "skip_h1_title": false,
   "title_cell": "Table of Contents",
   "title_sidebar": "Contents",
   "toc_cell": false,
   "toc_position": {},
   "toc_section_display": true,
   "toc_window_display": false
  },
  "varInspector": {
   "cols": {
    "lenName": 16,
    "lenType": 16,
    "lenVar": 40
   },
   "kernels_config": {
    "python": {
     "delete_cmd_postfix": "",
     "delete_cmd_prefix": "del ",
     "library": "var_list.py",
     "varRefreshCmd": "print(var_dic_list())"
    },
    "r": {
     "delete_cmd_postfix": ") ",
     "delete_cmd_prefix": "rm(",
     "library": "var_list.r",
     "varRefreshCmd": "cat(var_dic_list()) "
    }
   },
   "types_to_exclude": [
    "module",
    "function",
    "builtin_function_or_method",
    "instance",
    "_Feature"
   ],
   "window_display": false
  }
 },
 "nbformat": 4,
 "nbformat_minor": 2
}
